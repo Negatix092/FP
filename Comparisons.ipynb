{
 "cells": [
  {
   "cell_type": "code",
   "execution_count": 8,
   "metadata": {},
   "outputs": [
    {
     "name": "stdout",
     "output_type": "stream",
     "text": [
      "RMSE Promedio - LSTM: 0.0688\n",
      "RMSE Promedio - Transformers: 0.0901\n",
      "RMSE Promedio - TCN: 0.0887\n",
      "-------------------------------------------------\n",
      "R² Promedio - LSTM: 0.8419\n",
      "R² Promedio - Transformers: 0.7567\n",
      "R² Promedio - TCN: 0.7646\n"
     ]
    }
   ],
   "source": [
    "import numpy as np\n",
    "\n",
    "# Valores de RMSE y R² para LSTM, Transformers y TCN\n",
    "\n",
    "rmse_lstm = [0.0691, 0.0771, 0.0956, 0.0670, 0.0589, 0.0762, 0.0675, 0.0979, 0.0685, 0.0590, 0.0956, 0.0500, 0.0356, 0.0835, 0.0397, 0.0743, 0.0543]\n",
    "r2_lstm = [0.8807, 0.7732, 0.6468, 0.9199, 0.8315, 0.8070, 0.7660, 0.7712, 0.8216, 0.8641, 0.6539, 0.9617, 0.9804, 0.8941, 0.9819, 0.8175, 0.9402]\n",
    "\n",
    "rmse_transformers = [0.0964, 0.0893, 0.1002, 0.0945, 0.0690, 0.0934, 0.0824, 0.1317, 0.0820, 0.0797, 0.1002, 0.0838, 0.0375, 0.1102, 0.0919, 0.0926, 0.0971]\n",
    "r2_transformers = [0.7676, 0.6958, 0.6123, 0.8404, 0.7690, 0.7104, 0.6518, 0.5859, 0.7447, 0.7521, 0.6195, 0.8925, 0.9783, 0.8157, 0.9032, 0.7161, 0.8091]\n",
    "\n",
    "rmse_tcn = [0.0954, 0.0902, 0.1001, 0.0980, 0.0658, 0.0897, 0.0832, 0.1257, 0.0841, 0.0822, 0.0989, 0.0886, 0.0457, 0.1046, 0.0901, 0.0889, 0.0770]\n",
    "r2_tcn = [0.7723, 0.6896, 0.6133, 0.8285, 0.7898, 0.7331, 0.6450, 0.6231, 0.7316, 0.7364, 0.6294, 0.8799, 0.9677, 0.8338, 0.9070, 0.7384, 0.8799]\n",
    "\n",
    "# Calcular el promedio de RMSE y R² para cada modelo\n",
    "rmse_lstm_avg = np.mean(rmse_lstm)\n",
    "r2_lstm_avg = np.mean(r2_lstm)\n",
    "\n",
    "rmse_transformers_avg = np.mean(rmse_transformers)\n",
    "r2_transformers_avg = np.mean(r2_transformers)\n",
    "\n",
    "rmse_tcn_avg = np.mean(rmse_tcn)\n",
    "r2_tcn_avg = np.mean(r2_tcn)\n",
    "\n",
    "# Imprimir los resultados\n",
    "print(f\"RMSE Promedio - LSTM: {rmse_lstm_avg:.4f}\")\n",
    "print(f\"RMSE Promedio - Transformers: {rmse_transformers_avg:.4f}\")\n",
    "print(f\"RMSE Promedio - TCN: {rmse_tcn_avg:.4f}\")\n",
    "print(\"-------------------------------------------------\")\n",
    "print(f\"R² Promedio - LSTM: {r2_lstm_avg:.4f}\")\n",
    "print(f\"R² Promedio - Transformers: {r2_transformers_avg:.4f}\")\n",
    "print(f\"R² Promedio - TCN: {r2_tcn_avg:.4f}\")"
   ]
  },
  {
   "cell_type": "code",
   "execution_count": 9,
   "metadata": {},
   "outputs": [
    {
     "name": "stdout",
     "output_type": "stream",
     "text": [
      "LSTM es el mejor modelo basado en RMSE\n",
      "LSTM es el mejor modelo basado en R²\n"
     ]
    }
   ],
   "source": [
    "# Comparación basada en RMSE y R²\n",
    "if rmse_lstm_avg < rmse_transformers_avg and rmse_lstm_avg < rmse_tcn_avg:\n",
    "    print(\"LSTM es el mejor modelo basado en RMSE\")\n",
    "elif rmse_transformers_avg < rmse_lstm_avg and rmse_transformers_avg < rmse_tcn_avg:\n",
    "    print(\"Transformers es el mejor modelo basado en RMSE\")\n",
    "else:\n",
    "    print(\"TCN es el mejor modelo basado en RMSE\")\n",
    "\n",
    "if r2_lstm_avg > r2_transformers_avg and r2_lstm_avg > r2_tcn_avg:\n",
    "    print(\"LSTM es el mejor modelo basado en R²\")\n",
    "elif r2_transformers_avg > r2_lstm_avg and r2_transformers_avg > r2_tcn_avg:\n",
    "    print(\"Transformers es el mejor modelo basado en R²\")\n",
    "else:\n",
    "    print(\"TCN es el mejor modelo basado en R²\")"
   ]
  },
  {
   "cell_type": "code",
   "execution_count": 10,
   "metadata": {},
   "outputs": [
    {
     "name": "stdout",
     "output_type": "stream",
     "text": [
      "TCN es el mejor modelo basado en RMSE comparado con Transformers\n",
      "TCN es el mejor modelo basado en R² comparado con Transformers\n"
     ]
    }
   ],
   "source": [
    "# Comparacion basada en RMSE y R2 pero solo entre modelos transformers y tcn \n",
    "if rmse_transformers_avg < rmse_tcn_avg:\n",
    "    print(\"Transformers es el mejor modelo basado en RMSE comparado con TCN\")\n",
    "else:\n",
    "    print(\"TCN es el mejor modelo basado en RMSE comparado con Transformers\")\n",
    "\n",
    "if r2_transformers_avg > r2_tcn_avg:\n",
    "    print(\"Transformers es el mejor modelo basado en R² comparado con TCN\")\n",
    "else:\n",
    "    print(\"TCN es el mejor modelo basado en R² comparado con Transformers\")"
   ]
  },
  {
   "cell_type": "code",
   "execution_count": 13,
   "metadata": {},
   "outputs": [
    {
     "name": "stdout",
     "output_type": "stream",
     "text": [
      "RMSE Promedio - LSTM: 0.0688\n",
      "RMSE Promedio - Hybrid ST: 0.0711\n",
      "RMSE Promedio - Hybrid Improved: 0.0729\n",
      "-------------------------------------------------\n",
      "R² Promedio - LSTM: 0.8419\n",
      "R² Promedio - Hybrid ST: 0.8294\n",
      "R² Promedio - Hybrid Improved: 0.8215\n"
     ]
    }
   ],
   "source": [
    "rmse_hybrid_st = [0.0687, 0.0801, 0.0946, 0.0677, 0.0632, 0.0775, 0.0849, 0.0955, 0.0705, 0.0568, 0.1017, 0.0484, 0.0554, 0.0797, 0.0392, 0.0707, 0.0546]\n",
    "r2_hybrid_st = [0.8820, 0.7552, 0.6547, 0.9181, 0.8064, 0.8008, 0.6299, 0.7825, 0.8111, 0.8743, 0.6082, 0.9642, 0.9525, 0.9035, 0.9823, 0.8348, 0.9397]\n",
    "\n",
    "rmse_hybrid_impr = [0.0714, 0.0776, 0.0968, 0.0769, 0.0619, 0.0773, 0.0954, 0.0924, 0.0734, 0.0631, 0.0995, 0.0484, 0.0501, 0.0811, 0.0516, 0.0681, 0.0548]\n",
    "r2_hybrid_impr = [0.8723, 0.7698, 0.6382, 0.8943, 0.8144, 0.8015, 0.5332, 0.7960, 0.7952, 0.8447, 0.6250, 0.9641, 0.9611, 0.9001, 0.9694, 0.8465, 0.9391]\n",
    "\n",
    "# Calcular el promedio de RMSE y R² para cada modelo\n",
    "rmse_hybrid_st_avg = np.mean(rmse_hybrid_st)\n",
    "r2_hybrid_st_avg = np.mean(r2_hybrid_st)\n",
    "\n",
    "rmse_hybrid_impr_avg = np.mean(rmse_hybrid_impr)\n",
    "r2_hybrid_impr_avg = np.mean(r2_hybrid_impr)\n",
    "\n",
    "# Imprimir los resultados\n",
    "print(f\"RMSE Promedio - LSTM: {rmse_lstm_avg:.4f}\")\n",
    "print(f\"RMSE Promedio - Hybrid ST: {rmse_hybrid_st_avg:.4f}\")\n",
    "print(f\"RMSE Promedio - Hybrid Improved: {rmse_hybrid_impr_avg:.4f}\")\n",
    "print(\"-------------------------------------------------\")\n",
    "print(f\"R² Promedio - LSTM: {r2_lstm_avg:.4f}\")\n",
    "print(f\"R² Promedio - Hybrid ST: {r2_hybrid_st_avg:.4f}\")\n",
    "print(f\"R² Promedio - Hybrid Improved: {r2_hybrid_impr_avg:.4f}\")"
   ]
  },
  {
   "cell_type": "code",
   "execution_count": 12,
   "metadata": {},
   "outputs": [
    {
     "name": "stdout",
     "output_type": "stream",
     "text": [
      "LSTM es el mejor modelo basado en RMSE\n",
      "LSTM es el mejor modelo basado en R²\n"
     ]
    }
   ],
   "source": [
    "# Comparacion basada en RMSE y R² entre modelos hibridos y modelo lstm\n",
    "if rmse_hybrid_st_avg < rmse_lstm_avg and rmse_hybrid_st_avg < rmse_hybrid_impr_avg:\n",
    "    print(\"Hybrid ST es el mejor modelo basado en RMSE\")\n",
    "elif rmse_hybrid_impr_avg < rmse_lstm_avg and rmse_hybrid_impr_avg < rmse_hybrid_st_avg:\n",
    "    print(\"Hybrid Improved es el mejor modelo basado en RMSE\")\n",
    "else:\n",
    "    print(\"LSTM es el mejor modelo basado en RMSE\")\n",
    "\n",
    "if r2_hybrid_st_avg > r2_lstm_avg and r2_hybrid_st_avg > r2_hybrid_impr_avg:\n",
    "    print(\"Hybrid ST es el mejor modelo basado en R²\")\n",
    "elif r2_hybrid_impr_avg > r2_lstm_avg and r2_hybrid_impr_avg > r2_hybrid_st_avg:\n",
    "    print(\"Hybrid Improved es el mejor modelo basado en R²\")\n",
    "else:\n",
    "    print(\"LSTM es el mejor modelo basado en R²\")"
   ]
  },
  {
   "cell_type": "code",
   "execution_count": null,
   "metadata": {},
   "outputs": [],
   "source": []
  }
 ],
 "metadata": {
  "kernelspec": {
   "display_name": "base",
   "language": "python",
   "name": "python3"
  },
  "language_info": {
   "codemirror_mode": {
    "name": "ipython",
    "version": 3
   },
   "file_extension": ".py",
   "mimetype": "text/x-python",
   "name": "python",
   "nbconvert_exporter": "python",
   "pygments_lexer": "ipython3",
   "version": "3.9.19"
  }
 },
 "nbformat": 4,
 "nbformat_minor": 2
}
